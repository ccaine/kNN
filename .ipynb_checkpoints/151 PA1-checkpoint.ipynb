{
 "cells": [
  {
   "cell_type": "code",
   "execution_count": 1,
   "metadata": {},
   "outputs": [],
   "source": [
    "import numpy as np\n",
    "import time\n",
    "from random import randint\n",
    "from numpy import linalg as LA\n",
    "from collections import Counter"
   ]
  },
  {
   "cell_type": "code",
   "execution_count": 2,
   "metadata": {},
   "outputs": [],
   "source": [
    "# Read in data\n",
    "with open('../pa1train.txt') as f:\n",
    "    train = f.readlines()\n",
    "train = [x.strip() for x in train] \n",
    "\n",
    "with open('../pa1validate.txt') as f:\n",
    "    val = f.readlines()\n",
    "val = [x.strip() for x in val] \n",
    "\n",
    "with open('../pa1test.txt') as f:\n",
    "    test = f.readlines()\n",
    "test = [x.strip() for x in test] "
   ]
  },
  {
   "cell_type": "code",
   "execution_count": 3,
   "metadata": {},
   "outputs": [],
   "source": [
    "# Read in proj matrix and remove spacing\n",
    "with open('../projection.txt') as f:\n",
    "    proj = f.readlines()\n",
    "proj = [x.strip() for x in proj] \n",
    "\n",
    "for i in range (0,len(proj)):\n",
    "    proj[i] = proj[i].split(\" \")\n",
    "    \n",
    "for i in range(0,len(proj)):\n",
    "    proj[i] = [float(j) for j in proj[i]]"
   ]
  },
  {
   "cell_type": "code",
   "execution_count": 4,
   "metadata": {},
   "outputs": [],
   "source": [
    "# create empty lists for data sorting\n",
    "trainData = []\n",
    "trainLabel = []\n",
    "\n",
    "valData = []\n",
    "valLabel = []\n",
    "\n",
    "testData = []\n",
    "testLabel = []"
   ]
  },
  {
   "cell_type": "code",
   "execution_count": 5,
   "metadata": {},
   "outputs": [],
   "source": [
    "# Remove spaces and split into label/data\n",
    "for i in range (0,len(train)):\n",
    "    train[i] = train[i].split(\" \")\n",
    "    trainLabel.append(train[i][784])\n",
    "    trainData.append(train[i][:784])\n",
    "\n",
    "for i in range (0,len(val)):\n",
    "    val[i] = val[i].split(\" \")\n",
    "    valLabel.append(val[i][784])\n",
    "    valData.append(val[i][:784])\n",
    "\n",
    "for i in range (0,len(test)):\n",
    "    test[i] = test[i].split(\" \")\n",
    "    testLabel.append(test[i][784])\n",
    "    testData.append(test[i][:784])"
   ]
  },
  {
   "cell_type": "code",
   "execution_count": 6,
   "metadata": {},
   "outputs": [],
   "source": [
    "# convert label string to int\n",
    "trainLabel = [int(i) for i in trainLabel]\n",
    "\n",
    "valLabel = [int(i) for i in valLabel]\n",
    "\n",
    "testLabel = [int(i) for i in testLabel]"
   ]
  },
  {
   "cell_type": "code",
   "execution_count": 7,
   "metadata": {},
   "outputs": [],
   "source": [
    "# convert data string to int\n",
    "for i in range(0,len(trainData)):\n",
    "    trainData[i] = [int(j) for j in trainData[i]]\n",
    "    \n",
    "for i in range(0,len(valData)):\n",
    "    valData[i] = [int(j) for j in valData[i]]\n",
    "    \n",
    "for i in range(0,len(testData)):\n",
    "    testData[i] = [int(j) for j in testData[i]]"
   ]
  },
  {
   "cell_type": "code",
   "execution_count": 8,
   "metadata": {},
   "outputs": [],
   "source": [
    "# create empty lists\n",
    "projMat = []\n",
    "projRow = []\n",
    "x = 0"
   ]
  },
  {
   "cell_type": "code",
   "execution_count": 9,
   "metadata": {},
   "outputs": [],
   "source": [
    "# Apply Matrix Multiplication to creat projection matrix\n",
    "for i in range (0,len(trainData)):\n",
    "    for k in range (0,len(proj[0])):\n",
    "        for j in range (0, len(proj)):\n",
    "            x += (trainData[i][j] * proj[j][k])\n",
    "        projRow.append(x)\n",
    "        x = 0\n",
    "    projMat.append(projRow)\n",
    "    projRow = []"
   ]
  },
  {
   "cell_type": "code",
   "execution_count": 10,
   "metadata": {},
   "outputs": [],
   "source": [
    "# create list of k values\n",
    "k = [1,5,9,15]"
   ]
  },
  {
   "cell_type": "code",
   "execution_count": 11,
   "metadata": {},
   "outputs": [],
   "source": [
    "def KNN(training, toPred, biggestkVal):\n",
    "    allDist = []\n",
    "    kResults = []\n",
    "\n",
    "    # calculate all the distances between vector to predict and training data\n",
    "    for i in range (0,len(training)):\n",
    "        dist = LA.norm(np.array(training[i])-np.array(toPred))\n",
    "        allDist.append((i,dist))\n",
    "    \n",
    "    # sort all values by distance\n",
    "    allDist.sort(key=lambda tup: tup[1]) \n",
    "\n",
    "    # check for ties\n",
    "    i = 0\n",
    "    while(len(kResults) != biggestkVal):\n",
    "        # if there is a tie, randomly choose one of the values\n",
    "        if(allDist[i][1] == allDist[i+1][1]):\n",
    "            coin = randint(i,i+1)\n",
    "            kResults.append(allDist[coin][0])\n",
    "        else:\n",
    "            kResults.append(allDist[i][0])\n",
    "        i += 1\n",
    "    \n",
    "    return kResults    "
   ]
  },
  {
   "cell_type": "code",
   "execution_count": 105,
   "metadata": {},
   "outputs": [],
   "source": [
    "output = KNN(trainData,testData[30],15)"
   ]
  },
  {
   "cell_type": "code",
   "execution_count": 112,
   "metadata": {},
   "outputs": [
    {
     "data": {
      "text/plain": [
       "[111, 178, 141, 144, 22, 80, 32, 172, 113, 9]"
      ]
     },
     "execution_count": 112,
     "metadata": {},
     "output_type": "execute_result"
    }
   ],
   "source": [
    "output[:10]"
   ]
  },
  {
   "cell_type": "code",
   "execution_count": 107,
   "metadata": {},
   "outputs": [],
   "source": [
    "data = Counter([trainLabel[x] for x in output])"
   ]
  },
  {
   "cell_type": "code",
   "execution_count": 108,
   "metadata": {},
   "outputs": [
    {
     "data": {
      "text/plain": [
       "0"
      ]
     },
     "execution_count": 108,
     "metadata": {},
     "output_type": "execute_result"
    }
   ],
   "source": [
    "data.most_common()[0][0]"
   ]
  },
  {
   "cell_type": "code",
   "execution_count": 109,
   "metadata": {},
   "outputs": [
    {
     "data": {
      "text/plain": [
       "{0, 1, 2, 3, 4, 5, 6, 7, 8, 9}"
      ]
     },
     "execution_count": 109,
     "metadata": {},
     "output_type": "execute_result"
    }
   ],
   "source": [
    "set(trainLabel)"
   ]
  },
  {
   "cell_type": "code",
   "execution_count": 17,
   "metadata": {},
   "outputs": [],
   "source": [
    "dud = Counter([1,1,1,2,2,2,3,3,4,4])"
   ]
  },
  {
   "cell_type": "code",
   "execution_count": 18,
   "metadata": {},
   "outputs": [
    {
     "data": {
      "text/plain": [
       "[(1, 3), (2, 3), (3, 2)]"
      ]
     },
     "execution_count": 18,
     "metadata": {},
     "output_type": "execute_result"
    }
   ],
   "source": [
    "dud.most_common()[:3]"
   ]
  },
  {
   "cell_type": "code",
   "execution_count": 13,
   "metadata": {},
   "outputs": [],
   "source": [
    "# Prediction Lists\n",
    "trainPred = []\n",
    "valPred = []\n",
    "testPred = []"
   ]
  },
  {
   "cell_type": "code",
   "execution_count": 14,
   "metadata": {},
   "outputs": [],
   "source": [
    "# function to generate predictions given training data, training labels, test data, and greatest k value\n",
    "def kNNPred(trainSet, trainL, testSet, largeK):\n",
    "    pred = []\n",
    "    totPred = []\n",
    "    for i in range (0,len(testSet)):\n",
    "        dup = 0\n",
    "    \n",
    "        # outputs largest K values of training data predictions on one test data point\n",
    "        output = KNN(trainSet,testSet[i],largeK)\n",
    "    \n",
    "        for m in range (0,len(k)):\n",
    "            # get the current k value\n",
    "            curK = k[m]\n",
    "        \n",
    "            # counts label occurences in the predictions\n",
    "            data = Counter([trainL[x] for x in output[:curK]])\n",
    "    \n",
    "            # if there is only one common label append it\n",
    "            if(len(data.most_common()) == 1):\n",
    "                pred.append(data.most_common()[0][0])\n",
    "            else:\n",
    "            # check all top common data for duplicates\n",
    "                for j in range (0,len(data.most_common())-1):\n",
    "                    # if current top count == next top count then add duplicates\n",
    "                    if(data.most_common()[j][1] == data.most_common()[j+1][1]):\n",
    "                        dup += 1\n",
    "                    else:\n",
    "                        break\n",
    "                # pick a random duplicate\n",
    "                pred.append(data.most_common()[randint(0,dup)][0])\n",
    "        totPred.append(pred)\n",
    "        pred = []\n",
    "    return totPred"
   ]
  },
  {
   "cell_type": "code",
   "execution_count": 15,
   "metadata": {},
   "outputs": [],
   "source": [
    "t0 = time.time() \n",
    "testPred = kNNPred(trainData,trainLabel,testData,15)\n",
    "t1 = time.time()"
   ]
  },
  {
   "cell_type": "code",
   "execution_count": 142,
   "metadata": {},
   "outputs": [],
   "source": [
    "t0 = time.time()\n",
    "pred = []\n",
    "for i in range (0,len(testData)):\n",
    "    dup = 0\n",
    "    \n",
    "    # outputs largest K values of training data predictions on one test data point\n",
    "    output = KNN(trainData,testData[i],15)\n",
    "    \n",
    "    for m in range (0,len(k)):\n",
    "        # get the current k value\n",
    "        curK = k[m]\n",
    "        \n",
    "        # counts label occurences in the predictions\n",
    "        data = Counter([trainLabel[x] for x in output[:curK]])\n",
    "    \n",
    "        # if there is only one common label append it\n",
    "        if(len(data.most_common()) == 1):\n",
    "            pred.append(data.most_common()[0][0])\n",
    "        else:\n",
    "            # check all top common data for duplicates\n",
    "            for j in range (0,len(data.most_common())-1):\n",
    "                # if current top count == next top count then add duplicates\n",
    "                if(data.most_common()[j][1] == data.most_common()[j+1][1]):\n",
    "                    dup += 1\n",
    "                else:\n",
    "                    break\n",
    "            # pick a random duplicate\n",
    "            pred.append(data.most_common()[randint(0,dup)][0])\n",
    "    testPred.append(pred)\n",
    "    pred = []\n",
    "t1 = time.time()"
   ]
  },
  {
   "cell_type": "code",
   "execution_count": 16,
   "metadata": {},
   "outputs": [],
   "source": [
    "total = t1-t0"
   ]
  },
  {
   "cell_type": "code",
   "execution_count": 17,
   "metadata": {},
   "outputs": [],
   "source": []
  },
  {
   "cell_type": "code",
   "execution_count": 18,
   "metadata": {},
   "outputs": [
    {
     "data": {
      "text/plain": [
       "211.3462769985199"
      ]
     },
     "execution_count": 18,
     "metadata": {},
     "output_type": "execute_result"
    }
   ],
   "source": [
    "total"
   ]
  },
  {
   "cell_type": "code",
   "execution_count": 19,
   "metadata": {},
   "outputs": [
    {
     "data": {
      "text/plain": [
       "0"
      ]
     },
     "execution_count": 19,
     "metadata": {},
     "output_type": "execute_result"
    }
   ],
   "source": [
    "len(trainPred)"
   ]
  },
  {
   "cell_type": "code",
   "execution_count": 20,
   "metadata": {},
   "outputs": [],
   "source": [
    "testError = []\n",
    "allCount = []\n",
    "counter = 0\n",
    "for j in range (0, len(k)):\n",
    "    for i in range (0,len(testLabel)):\n",
    "        if(testLabel[i] == testPred[i][j]):\n",
    "            counter += 1\n",
    "    allCount.append(counter)\n",
    "    counter = 0\n",
    "for i in range (0,len(allCount)):\n",
    "    testError.append((len(testLabel)-allCount[i])/len(testLabel))"
   ]
  },
  {
   "cell_type": "code",
   "execution_count": 27,
   "metadata": {},
   "outputs": [],
   "source": [
    "# calculate error given labels, predictions, and number of k values\n",
    "def calcError(labels, predictions,numK):\n",
    "    error = []\n",
    "    allCount = []\n",
    "    counter = 0\n",
    "    for j in range (0, numK):\n",
    "        for i in range (0,len(labels)):\n",
    "            if(labels[i] == predictions[i][j]):\n",
    "                counter += 1\n",
    "        allCount.append(counter)\n",
    "        counter = 0\n",
    "    for i in range (0,len(allCount)):\n",
    "        error.append((len(labels)-allCount[i])/len(labels))\n",
    "    return error"
   ]
  },
  {
   "cell_type": "code",
   "execution_count": 24,
   "metadata": {},
   "outputs": [
    {
     "data": {
      "text/plain": [
       "[906, 902, 895, 887]"
      ]
     },
     "execution_count": 24,
     "metadata": {},
     "output_type": "execute_result"
    }
   ],
   "source": [
    "allCount"
   ]
  },
  {
   "cell_type": "code",
   "execution_count": 28,
   "metadata": {},
   "outputs": [],
   "source": [
    "testError = calcError(testLabel,testPred,len(k))"
   ]
  },
  {
   "cell_type": "code",
   "execution_count": 29,
   "metadata": {},
   "outputs": [
    {
     "data": {
      "text/plain": [
       "[0.094, 0.098, 0.105, 0.113]"
      ]
     },
     "execution_count": 29,
     "metadata": {},
     "output_type": "execute_result"
    }
   ],
   "source": [
    "testError"
   ]
  },
  {
   "cell_type": "code",
   "execution_count": null,
   "metadata": {},
   "outputs": [],
   "source": []
  }
 ],
 "metadata": {
  "kernelspec": {
   "display_name": "Python 3",
   "language": "python",
   "name": "python3"
  },
  "language_info": {
   "codemirror_mode": {
    "name": "ipython",
    "version": 3
   },
   "file_extension": ".py",
   "mimetype": "text/x-python",
   "name": "python",
   "nbconvert_exporter": "python",
   "pygments_lexer": "ipython3",
   "version": "3.6.3"
  }
 },
 "nbformat": 4,
 "nbformat_minor": 2
}
